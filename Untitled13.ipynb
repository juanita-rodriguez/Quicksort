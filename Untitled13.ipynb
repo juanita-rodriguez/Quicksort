{
  "nbformat": 4,
  "nbformat_minor": 0,
  "metadata": {
    "colab": {
      "provenance": []
    },
    "kernelspec": {
      "name": "python3",
      "display_name": "Python 3"
    },
    "language_info": {
      "name": "python"
    }
  },
  "cells": [
    {
      "cell_type": "code",
      "execution_count": 6,
      "metadata": {
        "id": "ODWaaeKtk-Pn",
        "colab": {
          "base_uri": "https://localhost:8080/"
        },
        "outputId": "0d26ecbf-5c0e-4ca3-fd33-68d728a216c1"
      },
      "outputs": [
        {
          "output_type": "stream",
          "name": "stdout",
          "text": [
            "0 1 1 2 3 5 8 13 21 34 "
          ]
        }
      ],
      "source": [
        "def fibonacci(n):\n",
        "    if n == 0:\n",
        "        return 0\n",
        "    elif n==1:\n",
        "       return 1\n",
        "    else:\n",
        "        return fibonacci(n-1) + fibonacci(n-2)\n",
        "\n",
        "num_elementos = 10\n",
        "for i in range(num_elementos):\n",
        "  print(fibonacci(i), end=\" \")"
      ]
    },
    {
      "cell_type": "code",
      "source": [
        "def quicksort(arr):\n",
        "    if len(arr) <= 1:\n",
        "        return arr\n",
        "    else:\n",
        "        pivot = arr[len(arr) // 2]\n",
        "        lesser = [x for x in arr if x < pivot]\n",
        "        equal = [x for x in arr if x == pivot]\n",
        "        greater = [x for x in arr if x > pivot]\n",
        "        return quicksort(lesser) + equal + quicksort(greater)\n",
        "# Ejemplo de uso\n",
        "arr = [7, 2, 1, 6, 8, 5, 3, 4]\n",
        "sorted_arr = quicksort(arr)\n",
        "print(\"Arreglo ordenado:\", sorted_arr)"
      ],
      "metadata": {
        "colab": {
          "base_uri": "https://localhost:8080/"
        },
        "id": "Y4kMJpZpriGC",
        "outputId": "a5c1c58f-3a47-4edb-b67e-c0257316e086"
      },
      "execution_count": 7,
      "outputs": [
        {
          "output_type": "stream",
          "name": "stdout",
          "text": [
            "Arreglo ordenado: [1, 2, 3, 4, 5, 6, 7, 8]\n"
          ]
        }
      ]
    }
  ]
}